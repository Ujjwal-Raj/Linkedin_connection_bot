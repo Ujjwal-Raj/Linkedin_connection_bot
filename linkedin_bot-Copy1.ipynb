{
 "cells": [
  {
   "cell_type": "code",
   "execution_count": null,
   "metadata": {},
   "outputs": [],
   "source": [
    "!pip install selenium\n",
    "!pip install beautifulsoup4\n",
    "\n",
    "#download chrome driver from https://chromedriver.chromium.org/downloads\n",
    "#check for appropriate chrome driver as per your chrome version\n",
    "#chrome version is in help menu of chrome "
   ]
  },
  {
   "cell_type": "code",
   "execution_count": null,
   "metadata": {},
   "outputs": [],
   "source": []
  },
  {
   "cell_type": "code",
   "execution_count": 1,
   "metadata": {},
   "outputs": [],
   "source": [
    "import time\n",
    "from selenium import webdriver\n",
    "from selenium.webdriver.common.keys import Keys\n",
    "from bs4 import BeautifulSoup\n",
    "import pandas as pd "
   ]
  },
  {
   "cell_type": "code",
   "execution_count": 2,
   "metadata": {},
   "outputs": [],
   "source": [
    "driver = webdriver.Chrome('chromedriver.exe')"
   ]
  },
  {
   "cell_type": "code",
   "execution_count": 3,
   "metadata": {},
   "outputs": [],
   "source": [
    "username = '####'\n",
    "password = '####'"
   ]
  },
  {
   "cell_type": "code",
   "execution_count": 4,
   "metadata": {},
   "outputs": [],
   "source": [
    "base_url = \"https://www.linkedin.com\"\n",
    "# '/uas/login'\n",
    "login_url = base_url + \"/login\"\n",
    "feed_url = base_url + '/feed'"
   ]
  },
  {
   "cell_type": "code",
   "execution_count": 5,
   "metadata": {},
   "outputs": [],
   "source": [
    "driver.get(\"https://www.linkedin.com/login\")\n",
    "time.sleep (5)"
   ]
  },
  {
   "cell_type": "code",
   "execution_count": 6,
   "metadata": {},
   "outputs": [],
   "source": [
    "driver.find_element_by_id('username').send_keys(username)\n",
    "driver.find_element_by_id('password').send_keys(password)\n",
    "driver.find_element_by_xpath(\"//button[contains(text(), 'Sign in')]\").click()\n"
   ]
  },
  {
   "cell_type": "code",
   "execution_count": null,
   "metadata": {},
   "outputs": [],
   "source": []
  },
  {
   "cell_type": "code",
   "execution_count": 15,
   "metadata": {},
   "outputs": [],
   "source": [
    "def search(text, connect):\n",
    "    driver.get(\"https://www.linkedin.com/feed\")\n",
    "    time.sleep(5)\n",
    "    search = driver.find_element_by_class_name('search-global-typeahead__input')\n",
    "    search.send_keys(text)\n",
    "    search.send_keys(Keys.ENTER)\n",
    "    \n",
    "    #wait\n",
    "    time.sleep(7)\n",
    "    if connect:\n",
    "        search_connect()\n",
    "    "
   ]
  },
  {
   "cell_type": "code",
   "execution_count": 16,
   "metadata": {},
   "outputs": [],
   "source": [
    "def search_connect():\n",
    "    #\"\"\" Called after search method to send connections to all on page \"\"\"\n",
    "    \n",
    "    \n",
    "    #connect = driver.find_element_by_xpath(\"//button[@class='search-result__action-button']\")\n",
    "    connect = driver.find_element_by_xpath(\"//button[@class='search-result__action-button search-result__actions--primary artdeco-button artdeco-button--default artdeco-button--2 artdeco-button--secondary']\")\n",
    "    time.sleep(5)\n",
    "    connect.click()\n",
    "    add_note = True\n",
    "\n",
    "    time.sleep(5)\n",
    "    message = 'Hello, I am ##### from #####. I would like to connect with you.'\n",
    "    if add_note == True:\n",
    "        driver.find_element_by_xpath(\"//button[@aria-label='Add a note']\").click()\n",
    "        time.sleep(1)\n",
    "        driver.find_element_by_name(\"message\").send_keys(message)\n",
    "        time.sleep(1)\n",
    "        driver.find_element_by_xpath(\"//button[@aria-label='Send invitation']\").click()\n",
    "    else:\n",
    "        driver.find_element_by_xpath(\"//button[@aria-label='Send now']\").click()\n",
    "    return \n",
    "\n",
    "    \n",
    "    #driver.find_element_by_class_name('ml1').click()\n",
    "    \n",
    "    # \"\"\" driver.find_element_by_class_name('mr1').click()\n",
    "     #    note = 'hey this is ujjwal raj from iit kgp would love to connect with you'\n",
    "      #   driver.find_element_by_class_name('relative')\n",
    "       #  driver.send_keys('note')\n",
    "        # time.sleep(5)\n",
    "         #driver.find_element_by_class_name('ml1').click()\"\"\"   "
   ]
  },
  {
   "cell_type": "code",
   "execution_count": 20,
   "metadata": {},
   "outputs": [],
   "source": [
    "#if you have list of companies then is good to import it and use\n",
    "df = pd.read_csv(\"comp.csv\")\n",
    "comp = col_one_list = df['company'].tolist()\n",
    "\n"
   ]
  },
  {
   "cell_type": "code",
   "execution_count": 17,
   "metadata": {},
   "outputs": [],
   "source": [
    "#if you want to execute for a single company\n",
    "text_1 = 'facebook'\n",
    "search_text = 'Recruiter at '+ text_1\n",
    "search(search_text, connect = True)"
   ]
  },
  {
   "cell_type": "code",
   "execution_count": null,
   "metadata": {},
   "outputs": [],
   "source": [
    "total_count = 200\n",
    "temp_count = 0\n",
    "for each in comp:\n",
    "    # if you want to connect to specifically to recruiters\n",
    "    search_text = 'Recruiter at '+ each\n",
    "    print(search_text)\n",
    "    search(search_text, connect = True)\n",
    "    temp_count = temp_count+1\n",
    "    if temp_count>total_count :\n",
    "        # Do not exceed a certian amount as you will get blocked by linkedin \n",
    "        print(\"Enough for today\")\n",
    "        break\n",
    "    \n"
   ]
  },
  {
   "cell_type": "code",
   "execution_count": null,
   "metadata": {},
   "outputs": [],
   "source": [
    "\n"
   ]
  },
  {
   "cell_type": "code",
   "execution_count": null,
   "metadata": {},
   "outputs": [],
   "source": []
  },
  {
   "cell_type": "code",
   "execution_count": null,
   "metadata": {},
   "outputs": [],
   "source": []
  },
  {
   "cell_type": "code",
   "execution_count": null,
   "metadata": {},
   "outputs": [],
   "source": []
  },
  {
   "cell_type": "code",
   "execution_count": null,
   "metadata": {},
   "outputs": [],
   "source": []
  },
  {
   "cell_type": "code",
   "execution_count": null,
   "metadata": {},
   "outputs": [],
   "source": []
  },
  {
   "cell_type": "code",
   "execution_count": null,
   "metadata": {},
   "outputs": [],
   "source": []
  },
  {
   "cell_type": "code",
   "execution_count": null,
   "metadata": {},
   "outputs": [],
   "source": []
  },
  {
   "cell_type": "code",
   "execution_count": null,
   "metadata": {},
   "outputs": [],
   "source": []
  },
  {
   "cell_type": "code",
   "execution_count": null,
   "metadata": {},
   "outputs": [],
   "source": []
  },
  {
   "cell_type": "code",
   "execution_count": null,
   "metadata": {},
   "outputs": [],
   "source": []
  }
 ],
 "metadata": {
  "kernelspec": {
   "display_name": "Python 3",
   "language": "python",
   "name": "python3"
  },
  "language_info": {
   "codemirror_mode": {
    "name": "ipython",
    "version": 3
   },
   "file_extension": ".py",
   "mimetype": "text/x-python",
   "name": "python",
   "nbconvert_exporter": "python",
   "pygments_lexer": "ipython3",
   "version": "3.7.4"
  },
  "toc": {
   "base_numbering": 1,
   "nav_menu": {},
   "number_sections": true,
   "sideBar": true,
   "skip_h1_title": false,
   "title_cell": "Table of Contents",
   "title_sidebar": "Contents",
   "toc_cell": false,
   "toc_position": {},
   "toc_section_display": true,
   "toc_window_display": false
  },
  "varInspector": {
   "cols": {
    "lenName": 16,
    "lenType": 16,
    "lenVar": 40
   },
   "kernels_config": {
    "python": {
     "delete_cmd_postfix": "",
     "delete_cmd_prefix": "del ",
     "library": "var_list.py",
     "varRefreshCmd": "print(var_dic_list())"
    },
    "r": {
     "delete_cmd_postfix": ") ",
     "delete_cmd_prefix": "rm(",
     "library": "var_list.r",
     "varRefreshCmd": "cat(var_dic_list()) "
    }
   },
   "types_to_exclude": [
    "module",
    "function",
    "builtin_function_or_method",
    "instance",
    "_Feature"
   ],
   "window_display": false
  }
 },
 "nbformat": 4,
 "nbformat_minor": 2
}
